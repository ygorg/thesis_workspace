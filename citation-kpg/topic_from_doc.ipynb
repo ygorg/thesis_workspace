{
 "cells": [
  {
   "cell_type": "markdown",
   "metadata": {},
   "source": [
    "#### 14/09/2020\n",
    "L'objectif est d'utiliser les requêtes pour donner un score à chaque terme-clé, pour savoir comment le TC contribue à rapprocher un document et une requête, mais surtout s'il contribue à rapprocher le document des requêtes pour lequel il est pertinent.\n",
    "Une fois ce score établi, il sera possible de filtrer les termes-clés qui contribuent a rapprocher les documents de requêtes pour lesquels ils ne sont pas pertinents."
   ]
  },
  {
   "cell_type": "markdown",
   "metadata": {},
   "source": [
    "Faire correspondre les mots `w_d` des termes-clés du document `d` avec les requêtes (s'ils ont des mots en commun).\n",
    "Puis compter le nombre de ces requêtes pour lesquelles le document `d` est pertinent.\n",
    "\n",
    "- `d \\app D` : document (ensemble de TC)\n",
    "- `w_di \\app d` : tc du document `d`\n",
    "- `w_dij \\app d` : le mot `j` du TC `i` du doc `d`\n",
    "- `t \\app T` : requête (topic) (ensemble de mots)\n",
    "- `pert(d, t)` : qui dit si le document `d` est pertinent pour la requête `t` (défini par une liste document x requêtes)\n",
    "- `sim(w_dij, t)` : qui dit le mot `w_dij` est lié à la requête `t` (là: `w_dij \\app t`)\n",
    "- `score(w_di)` : score de contribution du tc `w_di` a rapprocher le document `d` des requêtes `t \\app T | pert(d,t) == True` dont il est pertinent\n",
    "- `score(w_di) = \\sum_{w_dij \\ app w_di} \\sum_{t \\app T | sim(w_dij, t) > 0}{pert(d, t) * sim(w_dij, t)}`\n",
    "\n",
    "- `pert(d, t)` : precision si d est pertinent avec 1 topic en général alors tout les TC seront \"muavais\"\n",
    "- `sim(w_dij, t)` : couverture du score (si aucun mot n'est similaire a aucun topic alors on sais rien\n",
    "\n",
    "Pour filtrer il faut faire par document et pas avoir de threshold général.\n",
    "\n",
    "\n",
    "Faire un test avec KP20k pour voir."
   ]
  },
  {
   "cell_type": "markdown",
   "metadata": {},
   "source": [
    "Le but ici est de créer un référence (requêtes x document).\n",
    "Idée de requête\n",
    "- Utiliser le titre comme requête\n",
    "- Utiliser les noun phrase du titre\n",
    "- Les phrases citantes pour retrouver l'article cité\n",
    "\n",
    "Cas possibles\n",
    "- 1 req = 1 doc : très forte correlation entre topic et doc\n",
    "- x req = 1 doc\n",
    "\n",
    "Si 1 req = 1 doc alors il faut que les TC généré soient égal à la requête et en même temps différent des autres requetes, si il y a des requetes proches alors il faudra s'en éloigner donc peut-être \n",
    "Si 1 req = X doc\n",
    "\n",
    "Ces couples (requête x document) vont être utilisés dans une loss.\n",
    "L'idée est que grâce aux TC l'accuracy de RI doit augmenter.\n",
    "L'accuracy serait un truc comme la cross entropy de la proba que le doc appartienne à la requete ou pas.\n",
    "Est-ce que c'est dérivable si c'est à base de : est-ce que les termes de la requete sont dans les TC\n",
    "Mais si c'est à base de cosine ça peut être ok, MAIS CONNE lors de l'entrainement on a pas de beam search, donc on sais pas quels sont les TC choisis."
   ]
  },
  {
   "cell_type": "code",
   "execution_count": 1,
   "metadata": {},
   "outputs": [
    {
     "name": "stderr",
     "output_type": "stream",
     "text": [
      "\n",
      "Bad key text.latex.unicode in file /home/gallina-y/.local/lib/python3.6/site-packages/matplotlib/mpl-data/stylelib/_classic_test.mplstyle, line 112 ('text.latex.unicode : False # use \"ucs\" and \"inputenc\" LaTeX packages for handling')\n",
      "You probably need to get an updated matplotlibrc file from\n",
      "https://github.com/matplotlib/matplotlib/blob/v3.3.1/matplotlibrc.template\n",
      "or from the matplotlib source distribution\n",
      "\n",
      "Bad key savefig.frameon in file /home/gallina-y/.local/lib/python3.6/site-packages/matplotlib/mpl-data/stylelib/_classic_test.mplstyle, line 423 ('savefig.frameon : True')\n",
      "You probably need to get an updated matplotlibrc file from\n",
      "https://github.com/matplotlib/matplotlib/blob/v3.3.1/matplotlibrc.template\n",
      "or from the matplotlib source distribution\n",
      "\n",
      "Bad key pgf.debug in file /home/gallina-y/.local/lib/python3.6/site-packages/matplotlib/mpl-data/stylelib/_classic_test.mplstyle, line 444 ('pgf.debug           : False')\n",
      "You probably need to get an updated matplotlibrc file from\n",
      "https://github.com/matplotlib/matplotlib/blob/v3.3.1/matplotlibrc.template\n",
      "or from the matplotlib source distribution\n",
      "\n",
      "Bad key verbose.level in file /home/gallina-y/.local/lib/python3.6/site-packages/matplotlib/mpl-data/stylelib/_classic_test.mplstyle, line 475 ('verbose.level  : silent      # one of silent, helpful, debug, debug-annoying')\n",
      "You probably need to get an updated matplotlibrc file from\n",
      "https://github.com/matplotlib/matplotlib/blob/v3.3.1/matplotlibrc.template\n",
      "or from the matplotlib source distribution\n",
      "\n",
      "Bad key verbose.fileo in file /home/gallina-y/.local/lib/python3.6/site-packages/matplotlib/mpl-data/stylelib/_classic_test.mplstyle, line 476 ('verbose.fileo  : sys.stdout  # a log filename, sys.stdout or sys.stderr')\n",
      "You probably need to get an updated matplotlibrc file from\n",
      "https://github.com/matplotlib/matplotlib/blob/v3.3.1/matplotlibrc.template\n",
      "or from the matplotlib source distribution\n",
      "In /home/gallina-y/.local/lib/python3.6/site-packages/matplotlib/mpl-data/stylelib/_classic_test.mplstyle: \n",
      "The text.latex.preview rcparam was deprecated in Matplotlib 3.3 and will be removed two minor releases later.\n",
      "In /home/gallina-y/.local/lib/python3.6/site-packages/matplotlib/mpl-data/stylelib/_classic_test.mplstyle: \n",
      "The mathtext.fallback_to_cm rcparam was deprecated in Matplotlib 3.3 and will be removed two minor releases later.\n",
      "In /home/gallina-y/.local/lib/python3.6/site-packages/matplotlib/mpl-data/stylelib/_classic_test.mplstyle: Support for setting the 'mathtext.fallback_to_cm' rcParam is deprecated since 3.3 and will be removed two minor releases later; use 'mathtext.fallback : 'cm' instead.\n",
      "In /home/gallina-y/.local/lib/python3.6/site-packages/matplotlib/mpl-data/stylelib/_classic_test.mplstyle: \n",
      "The validate_bool_maybe_none function was deprecated in Matplotlib 3.3 and will be removed two minor releases later.\n",
      "In /home/gallina-y/.local/lib/python3.6/site-packages/matplotlib/mpl-data/stylelib/_classic_test.mplstyle: \n",
      "The savefig.jpeg_quality rcparam was deprecated in Matplotlib 3.3 and will be removed two minor releases later.\n",
      "In /home/gallina-y/.local/lib/python3.6/site-packages/matplotlib/mpl-data/stylelib/_classic_test.mplstyle: \n",
      "The keymap.all_axes rcparam was deprecated in Matplotlib 3.3 and will be removed two minor releases later.\n",
      "In /home/gallina-y/.local/lib/python3.6/site-packages/matplotlib/mpl-data/stylelib/_classic_test.mplstyle: \n",
      "The animation.avconv_path rcparam was deprecated in Matplotlib 3.3 and will be removed two minor releases later.\n",
      "In /home/gallina-y/.local/lib/python3.6/site-packages/matplotlib/mpl-data/stylelib/_classic_test.mplstyle: \n",
      "The animation.avconv_args rcparam was deprecated in Matplotlib 3.3 and will be removed two minor releases later.\n"
     ]
    }
   ],
   "source": [
    "import json\n",
    "import nltk\n",
    "import spacy\n",
    "from tqdm import tqdm\n",
    "import matplotlib.pyplot as plt\n",
    "from operator import itemgetter\n",
    "from multiprocessing import Pool\n",
    "import numpy as np\n",
    "from itertools import product\n",
    "import seaborn as sns\n",
    "from collections import Counter"
   ]
  },
  {
   "cell_type": "code",
   "execution_count": 2,
   "metadata": {},
   "outputs": [],
   "source": [
    "nlp = spacy.load('en', disable=[\"ner\"])\n",
    "stopwords = nltk.corpus.stopwords.words('english')"
   ]
  },
  {
   "cell_type": "code",
   "execution_count": 3,
   "metadata": {},
   "outputs": [],
   "source": [
    "with open('../../data/datasets/KP20k/full/kp20k.valid.json') as f:\n",
    "    data = map(json.loads, f)\n",
    "    data = {d['id']: d for d in data}"
   ]
  },
  {
   "cell_type": "markdown",
   "metadata": {},
   "source": [
    "Topics are the noun chunk extracted from the title of the doc (tokenized on space)\n",
    "The abstract and keyword are indexed.\n",
    "The relevance score is how many token of topics appear (exactly) in the document."
   ]
  },
  {
   "cell_type": "code",
   "execution_count": 4,
   "metadata": {},
   "outputs": [
    {
     "name": "stderr",
     "output_type": "stream",
     "text": [
      "20000it [00:29, 677.35it/s]\n"
     ]
    }
   ],
   "source": [
    "def worker(args):\n",
    "    k, v = args\n",
    "    acc = []\n",
    "    for nc in nlp(v['title']).noun_chunks:\n",
    "        for t in nc.text.split():\n",
    "            if t.lower() not in stopwords and len(t) > 1:\n",
    "                acc.append(t)\n",
    "    return k, acc\n",
    "\n",
    "\n",
    "topics = {}\n",
    "with Pool(4) as p:\n",
    "    for k, v in tqdm(p.imap_unordered(worker, data.items())):\n",
    "        topics[k] = v"
   ]
  },
  {
   "cell_type": "code",
   "execution_count": 5,
   "metadata": {},
   "outputs": [],
   "source": [
    "def relevance_score(doc, topic):\n",
    "    if not topic:\n",
    "        return 0\n",
    "    return sum(doc.get(t, 0) * n for t, n in topic.items()) / sum(topic.values())"
   ]
  },
  {
   "cell_type": "code",
   "execution_count": 6,
   "metadata": {},
   "outputs": [],
   "source": [
    "def doc2content(doc):\n",
    "    # Return the concatenation of tokens of the lowered abstract and of the tokens lowered\n",
    "    tok_kws = [t for k in doc['keyword'].split(';') for t in k.lower().split()]\n",
    "    return Counter(nltk.word_tokenize(doc['abstract'].lower()) + tok_kws)"
   ]
  },
  {
   "cell_type": "code",
   "execution_count": 9,
   "metadata": {},
   "outputs": [],
   "source": [
    "preproc_data = [(k, doc2content(d)) for k, d in data.items()]\n",
    "preproc_topics = [(k, Counter(map(str.lower, t))) for k, t in topics.items()]"
   ]
  },
  {
   "cell_type": "code",
   "execution_count": 11,
   "metadata": {},
   "outputs": [
    {
     "name": "stderr",
     "output_type": "stream",
     "text": [
      "100%|██████████| 20000/20000 [05:53<00:00, 56.54it/s]\n"
     ]
    }
   ],
   "source": [
    "def worker(args):\n",
    "    docs, (t_id, topic) = (preproc_data, args)\n",
    "    tmp = ((k, relevance_score(d, topic)) for k, d in docs)\n",
    "    return t_id, [(k, s) for k, s in tmp if s > 0.5]\n",
    "\n",
    "query2relevance = {}\n",
    "with Pool(3) as p:\n",
    "    for t_id, score in tqdm(p.imap_unordered(worker, preproc_topics),\n",
    "                                  total=len(preproc_topics)):\n",
    "        query2relevance[t_id] = score"
   ]
  },
  {
   "cell_type": "code",
   "execution_count": 69,
   "metadata": {},
   "outputs": [],
   "source": [
    "# Requêtes qui retournent trop de résultat"
   ]
  },
  {
   "cell_type": "code",
   "execution_count": null,
   "metadata": {},
   "outputs": [],
   "source": [
    "tmp = {k: (len(topics[k]), len({kd: s for kd, s in t.items() if s > 0.7}))\n",
    "       for k, t in query2relevance.items()}\n",
    "[(k, b, topics[k]) for k, (a, b) in tmp.items() if b > 150]"
   ]
  },
  {
   "cell_type": "code",
   "execution_count": 16,
   "metadata": {},
   "outputs": [
    {
     "data": {
      "image/png": "[encoded data removed]",
      "text/plain": [
       "<Figure size 432x288 with 1 Axes>"
      ]
     },
     "metadata": {
      "needs_background": "light"
     },
     "output_type": "display_data"
    }
   ],
   "source": [
    "# Nombre de document pertinent en fonction du nombre de terme de la requete\n",
    "tmp = {k: (len(topics[k]), len({kd: s for kd, s in t if s > 0.9}))\n",
    "       for k, t in query2relevance.items()}\n",
    "tmp = [(a, b) for a, b in tmp.values()]\n",
    "plt.scatter([e[0] for e in tmp], [e[1] for e in tmp])\n",
    "plt.show()"
   ]
  },
  {
   "cell_type": "code",
   "execution_count": 56,
   "metadata": {},
   "outputs": [
    {
     "data": {
      "image/png": "[encoded data removed]",
      "text/plain": [
       "<Figure size 432x288 with 1 Axes>"
      ]
     },
     "metadata": {
      "needs_background": "light"
     },
     "output_type": "display_data"
    }
   ],
   "source": [
    "# En fonction du seuil quel est la moyenne du nombre de doc relevant\n",
    "#  pour les requête qui retournent plus de 0 document qui n'est pas eux-même\n",
    "%%time\n",
    "tmp = []\n",
    "# Pour accelerer après chque seuil supprimer les entrées qui sont < au seuil qu'on a calculé\n",
    "for seuil in np.arange(0.5, 1, 0.1):\n",
    "    seuil = round(seuil, 1)\n",
    "    acc = (sum(s > seuil for k_d, s in t if k_d != k) for k, t in query2relevance.items())\n",
    "    acc = [n for n in acc if n > 0]\n",
    "    tmp.append((seuil, acc))\n",
    "\n",
    "plt.scatter(x=[e[0] for e in tmp], y=[np.mean(e[1]) for e in tmp])\n",
    "plt.scatter(x=[e[0] for e in tmp], y=[np.median(e[1]) for e in tmp], marker='x')\n",
    "plt.show()"
   ]
  },
  {
   "cell_type": "code",
   "execution_count": null,
   "metadata": {},
   "outputs": [],
   "source": [
    "# En fonction du seuil quel est le nombre de requetes qui retourne au moins 1 document ?\n",
    "tmp = [(seuil, sum([sum(s > seuil for k_d, s in t if k_d != k) > 0 for k, t in query2relevance.items()]))\n",
    "       for seuil in np.arange(0, 1, 0.1)]\n",
    "plt.scatter(x=[e[0] for e in tmp], y=[e[1] for e in tmp])\n",
    "plt.show()"
   ]
  },
  {
   "cell_type": "code",
   "execution_count": 61,
   "metadata": {
    "scrolled": true
   },
   "outputs": [
    {
     "data": {
      "image/png": "[encoded data removed]",
      "text/plain": [
       "<Figure size 432x288 with 1 Axes>"
      ]
     },
     "metadata": {
      "needs_background": "light"
     },
     "output_type": "display_data"
    }
   ],
   "source": [
    "# En fonction du seuil combien de document lié a au moins 1 requetes qui n'est pas elle-même\n",
    "tmp = []\n",
    "for seuil in np.arange(0.5, 1, 0.1):\n",
    "    doc_freq = Counter()\n",
    "    for k_q, t in query2relevance.items():\n",
    "        # Docs ok avec la requete k_q\n",
    "        doc_freq.update([k for k, s in t if s > seuil and k != k_q])\n",
    "    tmp.append((seuil, list(doc_freq.values())))\n",
    "plt.scatter([e[0] for e in tmp], [np.mean(e[1]) for e in tmp])\n",
    "plt.scatter([e[0] for e in tmp], [np.median(e[1]) for e in tmp], marker='x')\n",
    "plt.show()"
   ]
  },
  {
   "cell_type": "markdown",
   "metadata": {},
   "source": [
    "Choisir les requêtes:\n",
    "    - je veux des requêtes qui retournent plusieurs documents (sans compter le document original)\n",
    "    - "
   ]
  },
  {
   "cell_type": "code",
   "execution_count": null,
   "metadata": {},
   "outputs": [],
   "source": [
    "# En fonction du seuil combien de requetes retournent n documents\n",
    "tmp = [(seuil, [sum(s > seuil for k_d, s in t if k_d != k) for k, t in query2relevance.items()])\n",
    "       for seuil in np.arange(0.5, 1, 0.1)]"
   ]
  },
  {
   "cell_type": "code",
   "execution_count": null,
   "metadata": {},
   "outputs": [],
   "source": [
    "df = pd.DataFrame((s, n) for s, l in tmp for n in l)"
   ]
  },
  {
   "cell_type": "code",
   "execution_count": null,
   "metadata": {},
   "outputs": [],
   "source": [
    "df[1][df[1]> 0].describe()"
   ]
  },
  {
   "cell_type": "code",
   "execution_count": null,
   "metadata": {},
   "outputs": [],
   "source": [
    "sns.violinplot(data=df[df[1]<20], x=0, y=1)"
   ]
  },
  {
   "cell_type": "code",
   "execution_count": null,
   "metadata": {},
   "outputs": [],
   "source": [
    "df.loc[5]"
   ]
  },
  {
   "cell_type": "code",
   "execution_count": null,
   "metadata": {},
   "outputs": [],
   "source": [
    "bins = [-1, 0, 1, 2, 3, 5, 10, 100, 20000]\n",
    "df[2] = pd.cut(df[1], bins)\n",
    "tmp = df[df[1]>0].groupby([0, 2]).count().unstack()"
   ]
  },
  {
   "cell_type": "code",
   "execution_count": null,
   "metadata": {},
   "outputs": [],
   "source": [
    "tmp.index = [round(x, 2) for x in tmp.index]"
   ]
  },
  {
   "cell_type": "code",
   "execution_count": null,
   "metadata": {},
   "outputs": [],
   "source": [
    "for l in tmp.iterrows():\n",
    "    x = sns.lineplot(x=range(8), y=l[1][1], label=l[0])\n",
    "x.set_xlabel(bins[2:])"
   ]
  },
  {
   "cell_type": "markdown",
   "metadata": {},
   "source": [
    "Je choisis un seuil de 0.7, car la courbe est bien baissée mais on a still pas mal de requetes a plus de 1000 doc."
   ]
  },
  {
   "cell_type": "markdown",
   "metadata": {},
   "source": [
    "Il faut enlever les requetes qui retrounenent beaucoup trop de document."
   ]
  },
  {
   "cell_type": "code",
   "execution_count": null,
   "metadata": {},
   "outputs": [],
   "source": [
    "seuil = 0.7"
   ]
  },
  {
   "cell_type": "code",
   "execution_count": null,
   "metadata": {},
   "outputs": [],
   "source": [
    "tmp = {k: {k_d: s for k_d, s in t if s > 0.7} for k, t in query2relevance.items()}"
   ]
  },
  {
   "cell_type": "code",
   "execution_count": null,
   "metadata": {},
   "outputs": [],
   "source": [
    "[(k, topics[k]) for k, t in query2relevance.items() if len(t) > 1000]"
   ]
  },
  {
   "cell_type": "code",
   "execution_count": null,
   "metadata": {},
   "outputs": [],
   "source": [
    "topics"
   ]
  },
  {
   "cell_type": "code",
   "execution_count": 40,
   "metadata": {},
   "outputs": [],
   "source": [
    "topic_voc = Counter()\n",
    "for ts in topics.values():\n",
    "    for t in ts:\n",
    "        topic_voc.update(t.split(' '))"
   ]
  },
  {
   "cell_type": "code",
   "execution_count": 31,
   "metadata": {},
   "outputs": [],
   "source": [
    "kw_voc = Counter()\n",
    "for kws in map(itemgetter('keyword'), data.values()):\n",
    "    for kw in kws.split(';'):\n",
    "        kw_voc.update(kw.split(' '))"
   ]
  },
  {
   "cell_type": "code",
   "execution_count": 48,
   "metadata": {},
   "outputs": [
    {
     "data": {
      "text/plain": [
       "(25171, 40.137459775138055)"
      ]
     },
     "execution_count": 48,
     "metadata": {},
     "output_type": "execute_result"
    }
   ],
   "source": [
    "len(set(kw_voc)), len(set(kw_voc) & set(topic_voc)) / len(set(kw_voc)) *100"
   ]
  },
  {
   "cell_type": "markdown",
   "metadata": {},
   "source": [
    "## Etude du TF max des termes\n",
    "\n",
    "En fait les termes les plus fréquents n'apparraissent que pour 5% max des requetes donc c'est ok pas de filtrage."
   ]
  },
  {
   "cell_type": "code",
   "execution_count": null,
   "metadata": {},
   "outputs": [],
   "source": [
    "from collections import Counter\n",
    "# Est-ce que le DF peut être superieur à 1 ?\n",
    "tmp = {t_id: {w: df for w, df in Counter(t).items() if df > 4} for t_id, t in topics.items()}\n",
    "{k: v for k, v in tmp.items() if v}"
   ]
  },
  {
   "cell_type": "code",
   "execution_count": null,
   "metadata": {},
   "outputs": [],
   "source": [
    "voc = {}\n",
    "for v in topics.values():\n",
    "    for t in set(map(str.lower, v)): # set car il peut y avoir plusieurs fois le même terme dans une requete\n",
    "        if t not in voc:\n",
    "            voc[t] = 0\n",
    "        voc[t] += 1"
   ]
  },
  {
   "cell_type": "code",
   "execution_count": null,
   "metadata": {
    "scrolled": true
   },
   "outputs": [],
   "source": [
    "sorted([(t, f, f / len(topics)*100) for t, f in voc.items()], key=lambda x: x[1], reverse=True)"
   ]
  },
  {
   "cell_type": "code",
   "execution_count": null,
   "metadata": {},
   "outputs": [],
   "source": [
    "tmp = [doc2content(d) for d in data.values()]\n",
    "def worker(t):\n",
    "    return t, sum(t.lower() in d.lower() for d in tmp)\n",
    "doc_freq = {}\n",
    "with Pool(5) as p:\n",
    "    for t, f in tqdm(p.imap_unordered(worker, voc.keys()), total=len(voc)):\n",
    "        doc_freq[t] = f"
   ]
  },
  {
   "cell_type": "code",
   "execution_count": null,
   "metadata": {},
   "outputs": [],
   "source": [
    "sorted(doc_freq.items(), key=itemgetter(1), reverse=True)"
   ]
  },
  {
   "cell_type": "code",
   "execution_count": null,
   "metadata": {},
   "outputs": [],
   "source": [
    "import re"
   ]
  },
  {
   "cell_type": "code",
   "execution_count": null,
   "metadata": {},
   "outputs": [],
   "source": [
    "%%time\n",
    "tmp = [doc2content(data[d]) for d in sorted(data)]\n",
    "esc = lambda t: t.replace('\\\\', '\\\\\\\\').replace('(', '\\(').replace(')', '\\)').replace('*', '\\*').replace('+', '\\+').replace('?', '\\?').replace('[', '\\[').replace(']', '\\]')\n",
    "esc_voc = list(map(esc, sorted(voc)))\n",
    "\n",
    "tf = [[(len(re.findall(t, d))) for t in esc_voc] for d in tmp]"
   ]
  },
  {
   "cell_type": "code",
   "execution_count": null,
   "metadata": {},
   "outputs": [],
   "source": []
  },
  {
   "cell_type": "code",
   "execution_count": null,
   "metadata": {},
   "outputs": [],
   "source": []
  },
  {
   "cell_type": "code",
   "execution_count": null,
   "metadata": {},
   "outputs": [],
   "source": [
    "for d in document:\n",
    "    for k in d.keyword:\n",
    "        for t in topics:\n",
    "            score = k in t * (1 if d in t.relevant else -1)\n",
    "            "
   ]
  }
 ],
 "metadata": {
  "kernelspec": {
   "display_name": "Python 3",
   "language": "python",
   "name": "python3"
  },
  "language_info": {
   "codemirror_mode": {
    "name": "ipython",
    "version": 3
   },
   "file_extension": ".py",
   "mimetype": "text/x-python",
   "name": "python",
   "nbconvert_exporter": "python",
   "pygments_lexer": "ipython3",
   "version": "3.8.0"
  },
  "toc": {
   "base_numbering": 1,
   "nav_menu": {},
   "number_sections": true,
   "sideBar": true,
   "skip_h1_title": false,
   "title_cell": "Table of Contents",
   "title_sidebar": "Contents",
   "toc_cell": false,
   "toc_position": {},
   "toc_section_display": true,
   "toc_window_display": false
  }
 },
 "nbformat": 4,
 "nbformat_minor": 2
}
